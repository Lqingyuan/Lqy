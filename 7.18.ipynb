{
 "cells": [
  {
   "cell_type": "markdown",
   "metadata": {},
   "source": [
    "# 选择\n",
    "## 布尔类型、数值和表达式\n",
    "![](../Photo/33.png)\n",
    "- 注意：比较运算符的相等是两个等到，一个等到代表赋值\n",
    "- 在Python中可以用整型0来代表False，其他数字来代表True\n",
    "- 后面还会讲到 is 在判断语句中的用发"
   ]
  },
  {
   "cell_type": "code",
   "execution_count": 19,
   "metadata": {
    "collapsed": true
   },
   "outputs": [],
   "source": [
    "yue=1000"
   ]
  },
  {
   "cell_type": "code",
   "execution_count": 22,
   "metadata": {},
   "outputs": [
    {
     "name": "stdout",
     "output_type": "stream",
     "text": [
      "请输入取款金额：1\n",
      "您的余额不足\n"
     ]
    }
   ],
   "source": [
    "qukuan=eval(input('请输入取款金额：'))\n",
    "if qukuan<=yue: \n",
    "    res=yue-qukuan\n",
    "    yue=res\n",
    "    print ('请取走您的钞票！')\n",
    "else: print('您的余额不足')"
   ]
  },
  {
   "cell_type": "markdown",
   "metadata": {},
   "source": [
    "## 字符串的比较使用ASCII值"
   ]
  },
  {
   "cell_type": "markdown",
   "metadata": {},
   "source": [
    "## Markdown \n",
    "- https://github.com/younghz/Markdown"
   ]
  },
  {
   "cell_type": "markdown",
   "metadata": {},
   "source": [
    "## EP:\n",
    "- <img src=\"../Photo/34.png\"></img>\n",
    "- 输入一个数字，判断其实奇数还是偶数"
   ]
  },
  {
   "cell_type": "markdown",
   "metadata": {},
   "source": [
    "## 产生随机数字\n",
    "- 函数random.randint(a,b) 可以用来产生一个a和b之间且包括a和b的随机整数"
   ]
  },
  {
   "cell_type": "markdown",
   "metadata": {},
   "source": [
    "##  其他random方法\n",
    "- random.random 返回0.0到1.0之间前闭后开区间的随机浮点\n",
    "- random.randrange(a,b) 前闭后开"
   ]
  },
  {
   "cell_type": "markdown",
   "metadata": {},
   "source": [
    "## EP：\n",
    "- 产生两个随机整数number1和number2，然后显示给用户，使用户输入数字的和，并判定其是否正确\n",
    "- 进阶:写一个随机序号点名程序"
   ]
  },
  {
   "cell_type": "code",
   "execution_count": null,
   "metadata": {
    "collapsed": true
   },
   "outputs": [],
   "source": [
    "import random"
   ]
  },
  {
   "cell_type": "code",
   "execution_count": 25,
   "metadata": {},
   "outputs": [
    {
     "ename": "SyntaxError",
     "evalue": "invalid syntax (<ipython-input-25-3db06ccceca8>, line 3)",
     "output_type": "error",
     "traceback": [
      "\u001b[1;36m  File \u001b[1;32m\"<ipython-input-25-3db06ccceca8>\"\u001b[1;36m, line \u001b[1;32m3\u001b[0m\n\u001b[1;33m    print(('请第') hang ('行'))\u001b[0m\n\u001b[1;37m                    ^\u001b[0m\n\u001b[1;31mSyntaxError\u001b[0m\u001b[1;31m:\u001b[0m invalid syntax\n"
     ]
    }
   ],
   "source": [
    "hang=random.randrange(1,10)\n",
    "lie=random.randrange(1,10)\n"
   ]
  },
  {
   "cell_type": "markdown",
   "metadata": {},
   "source": [
    "## if语句\n",
    "- 如果条件正确就执行一个单向if语句，亦即当条件为真的时候才执行if内部的语句\n",
    "- Python有很多选择语句:\n",
    "> - 单向if \n",
    "  - 双向if-else\n",
    "  - 嵌套if\n",
    "  - 多向if-elif-else\n",
    "  \n",
    "- 注意：当语句含有子语句的时候，那么一定至少要有一个缩进，也就是说如果有儿子存在，那么一定要缩进\n",
    "- 切记不可tab键和space混用，单用tab 或者 space\n",
    "- 当你输出的结果是无论if是否为真时都需要显示时，语句应该与if对齐"
   ]
  },
  {
   "cell_type": "code",
   "execution_count": 29,
   "metadata": {},
   "outputs": [
    {
     "name": "stdout",
     "output_type": "stream",
     "text": [
      "请输入成绩23\n",
      "不及格\n"
     ]
    }
   ],
   "source": [
    "cj=eval (input('请输入成绩'))\n",
    "if cj>=90:\n",
    "    print('A')\n",
    "elif 90>=cj>=80:\n",
    "    print('B')\n",
    "elif 80>=cj>=60:\n",
    "    print('C')\n",
    "else:\n",
    "    print('不及格')"
   ]
  },
  {
   "cell_type": "markdown",
   "metadata": {},
   "source": [
    "## EP：\n",
    "- 用户输入一个数字，判断其实奇数还是偶数\n",
    "- 进阶：可以查看下4.5实例研究猜生日"
   ]
  },
  {
   "cell_type": "code",
   "execution_count": 31,
   "metadata": {},
   "outputs": [
    {
     "name": "stdout",
     "output_type": "stream",
     "text": [
      "输入一个数字：7\n",
      "奇数\n"
     ]
    }
   ],
   "source": [
    "number=eval(input('输入一个数字：'))\n",
    "if number%2==0:\n",
    "    print ('偶数')\n",
    "else:\n",
    "    print ('奇数')"
   ]
  },
  {
   "cell_type": "markdown",
   "metadata": {},
   "source": [
    "## 双向if-else 语句\n",
    "- 如果条件为真，那么走if内部语句，否则走else内部语句"
   ]
  },
  {
   "cell_type": "markdown",
   "metadata": {},
   "source": [
    "## EP：\n",
    "- 产生两个随机整数number1和number2，然后显示给用户，使用户输入数字，并判定其是否正确,如果正确打印“you‘re correct”，否则打印正确错误"
   ]
  },
  {
   "cell_type": "markdown",
   "metadata": {},
   "source": [
    "## 嵌套if 和多向if-elif-else\n",
    "![](../Photo/35.png)"
   ]
  },
  {
   "cell_type": "markdown",
   "metadata": {},
   "source": [
    "## EP：\n",
    "- 提示用户输入一个年份，然后显示表示这一年的动物\n",
    "![](../Photo/36.png)\n",
    "- 计算身体质量指数的程序\n",
    "- BMI = 以千克为单位的体重除以以米为单位的身高\n",
    "![](../Photo/37.png)"
   ]
  },
  {
   "cell_type": "code",
   "execution_count": null,
   "metadata": {
    "collapsed": true
   },
   "outputs": [],
   "source": [
    "weight=eval (input('请输入体重（kg）'))\n",
    "legth=eval (input ('请输入身高（m）'))\n",
    "BMI=weight/legth*legith\n",
    "if BMI<18.5:\n",
    "    print ('超轻')\n",
    "elif 18.5<=BMI<25.0:\n",
    "    print ('标准')"
   ]
  },
  {
   "cell_type": "code",
   "execution_count": 38,
   "metadata": {},
   "outputs": [
    {
     "name": "stdout",
     "output_type": "stream",
     "text": [
      "请输入一个年份：1997\n",
      "牛\n"
     ]
    }
   ],
   "source": [
    "year=eval (input('请输入一个年份：'))\n",
    "i=year%12\n",
    "if i==0:\n",
    "    print('猴')\n",
    "elif i==1:\n",
    "    print('鸡')\n",
    "elif i==2:\n",
    "    print('狗')\n",
    "elif i==3:\n",
    "    print('猪')\n",
    "elif i==4:\n",
    "    print('鼠')\n",
    "elif i==5:\n",
    "    print('牛')\n",
    "elif i==6:\n",
    "    print('虎')\n",
    "elif i==7:\n",
    "    print('兔')\n",
    "elif i==8:\n",
    "    print('龙')\n",
    "elif i==9:\n",
    "    print('蛇')\n",
    "elif i==10:\n",
    "    print('马')\n",
    "elif i==11:\n",
    "    print('羊')\n",
    "else:\n",
    "    print('错误')"
   ]
  },
  {
   "cell_type": "markdown",
   "metadata": {},
   "source": [
    "## 逻辑运算符\n",
    "![](../Photo/38.png)"
   ]
  },
  {
   "cell_type": "markdown",
   "metadata": {},
   "source": [
    "![](../Photo/39.png)\n",
    "![](../Photo/40.png)"
   ]
  },
  {
   "cell_type": "markdown",
   "metadata": {},
   "source": [
    "## EP：\n",
    "- 判定闰年：一个年份如果能被4整除但不能被100整除，或者能被400整除，那么这个年份就是闰年\n",
    "- 提示用户输入一个年份，并返回是否是闰年\n",
    "- 提示用户输入一个数字，判断其是否为水仙花数"
   ]
  },
  {
   "cell_type": "code",
   "execution_count": null,
   "metadata": {
    "collapsed": true
   },
   "outputs": [],
   "source": [
    "for num in range(100,1000):"
   ]
  },
  {
   "cell_type": "code",
   "execution_count": null,
   "metadata": {
    "collapsed": true
   },
   "outputs": [],
   "source": [
    "str_num=str(num)\n",
    "bai =int(str_num[0])\n",
    "if num = bai **3 + shi ** 3+ ge ** 3:\n",
    "    print ('')"
   ]
  },
  {
   "cell_type": "code",
   "execution_count": 42,
   "metadata": {},
   "outputs": [
    {
     "name": "stdout",
     "output_type": "stream",
     "text": [
      "请输入一个三位数123\n"
     ]
    },
    {
     "ename": "TypeError",
     "evalue": "argument of type 'int' is not iterable",
     "output_type": "error",
     "traceback": [
      "\u001b[1;31m---------------------------------------------------------------------------\u001b[0m",
      "\u001b[1;31mTypeError\u001b[0m                                 Traceback (most recent call last)",
      "\u001b[1;32m<ipython-input-42-21710cea202f>\u001b[0m in \u001b[0;36m<module>\u001b[1;34m()\u001b[0m\n\u001b[0;32m      1\u001b[0m \u001b[0mnumber\u001b[0m\u001b[1;33m=\u001b[0m\u001b[0meval\u001b[0m\u001b[1;33m(\u001b[0m\u001b[0minput\u001b[0m\u001b[1;33m(\u001b[0m\u001b[1;34m'请输入一个三位数'\u001b[0m\u001b[1;33m)\u001b[0m\u001b[1;33m)\u001b[0m\u001b[1;33m\u001b[0m\u001b[0m\n\u001b[1;32m----> 2\u001b[1;33m \u001b[1;32mif\u001b[0m \u001b[0mi\u001b[0m \u001b[1;32min\u001b[0m \u001b[0mnumber\u001b[0m\u001b[1;33m:\u001b[0m\u001b[1;33m\u001b[0m\u001b[0m\n\u001b[0m\u001b[0;32m      3\u001b[0m     \u001b[0mprint\u001b[0m \u001b[1;33m(\u001b[0m\u001b[0mi\u001b[0m\u001b[1;33m)\u001b[0m\u001b[1;33m\u001b[0m\u001b[0m\n",
      "\u001b[1;31mTypeError\u001b[0m: argument of type 'int' is not iterable"
     ]
    }
   ],
   "source": [
    "number=eval(input('请输入一个三位数'))\n",
    "a=number%100\n",
    "b=number%100/10\n",
    "c=number%10"
   ]
  },
  {
   "cell_type": "code",
   "execution_count": 41,
   "metadata": {},
   "outputs": [
    {
     "name": "stdout",
     "output_type": "stream",
     "text": [
      "请输入年份：2008\n",
      "闰年\n"
     ]
    }
   ],
   "source": [
    "year=eval (input('请输入年份：'))\n",
    "if year%4==0 and year%100!=0 or year%400==0:\n",
    "    print('闰年')\n",
    "else:\n",
    "    print('不是闰年')"
   ]
  },
  {
   "cell_type": "markdown",
   "metadata": {},
   "source": [
    "## 实例研究：彩票\n",
    "![](../Photo/41.png)"
   ]
  },
  {
   "cell_type": "code",
   "execution_count": 48,
   "metadata": {},
   "outputs": [
    {
     "name": "stdout",
     "output_type": "stream",
     "text": [
      "请输入一个两位数79\n",
      "没有得奖 92\n"
     ]
    }
   ],
   "source": [
    "import random\n",
    "a=random.randint(10,99)\n",
    "b=eval(input('请输入一个两位数'))\n",
    "str_a=str(a)\n",
    "str_b=str(b)\n",
    "a1=str_a[0]\n",
    "a2=str_a[1]\n",
    "b1=str_b[0]\n",
    "b2=str_b[1]\n",
    "if a1==b1 and b2==a2:\n",
    "    print('恭喜获得10000元奖金')\n",
    "elif a1==b1 and b2==a2 or a1==b2 and a2==b1:\n",
    "    print ('恭喜获得3000元奖金')\n",
    "elif a1==b1 or a1==b2 and b1==a1 or b1==a2:\n",
    "    print ('恭喜你获得1000元奖金')\n",
    "else:\n",
    "    print('没有得奖',a)"
   ]
  },
  {
   "cell_type": "raw",
   "metadata": {},
   "source": []
  },
  {
   "cell_type": "markdown",
   "metadata": {},
   "source": [
    "# Homework\n",
    "- 1\n",
    "![](../Photo/42.png)"
   ]
  },
  {
   "cell_type": "code",
   "execution_count": 59,
   "metadata": {},
   "outputs": [
    {
     "name": "stdout",
     "output_type": "stream",
     "text": [
      "a1\n",
      "b2\n",
      "c3\n",
      "The equation has no real roots\n"
     ]
    }
   ],
   "source": [
    "import math\n",
    "a=eval(input('a'))\n",
    "b=eval(input('b'))\n",
    "c=eval(input('c'))\n",
    "x=b*b-4*a*c\n",
    "if x>0:\n",
    "    r1=(-b+math.sqrt(x))/2*a\n",
    "    r2=(-b-math.sqrt(x))/2*a\n",
    "    print('两个根',r1,r2)\n",
    "elif x==0:\n",
    "    r=-b/2*a\n",
    "    print('一个根',r)\n",
    "elif x<0:\n",
    "    print('The equation has no real roots')\n",
    "else:\n",
    "    print('错误')"
   ]
  },
  {
   "cell_type": "markdown",
   "metadata": {},
   "source": [
    "- 2\n",
    "![](../Photo/43.png)"
   ]
  },
  {
   "cell_type": "code",
   "execution_count": 61,
   "metadata": {},
   "outputs": [
    {
     "name": "stdout",
     "output_type": "stream",
     "text": [
      "56 20\n",
      "输入两数之和76\n",
      "正确\n"
     ]
    }
   ],
   "source": [
    "import random\n",
    "a=random.randint(0,99)\n",
    "b=random.randint(0,99)\n",
    "print (a,b)\n",
    "c=a+b\n",
    "he=eval(input('输入两数之和'))\n",
    "if he==c:\n",
    "    print('正确')\n",
    "else:\n",
    "    print('错误')"
   ]
  },
  {
   "cell_type": "markdown",
   "metadata": {},
   "source": [
    "- 3\n",
    "![](../Photo/44.png)"
   ]
  },
  {
   "cell_type": "code",
   "execution_count": null,
   "metadata": {},
   "outputs": [
    {
     "name": "stdout",
     "output_type": "stream",
     "text": [
      "星期天是0，星期一是1，星期二是2，星期三是3，星期四是4，星期五是5，星期六是6\n"
     ]
    }
   ],
   "source": [
    "print('星期天是0，星期一是1，星期二是2，星期三是3，星期四是4，星期五是5，星期六是6')\n",
    "a=eval(input('请输入代表星期的数字'))\n",
    "b=eval(input('请输入今天之后到未来某天的天数'))\n",
    "c=(b%7+a)%7\n",
    "print (c)\n",
    "\n"
   ]
  },
  {
   "cell_type": "markdown",
   "metadata": {},
   "source": [
    "- 4\n",
    "![](../Photo/45.png)"
   ]
  },
  {
   "cell_type": "code",
   "execution_count": 5,
   "metadata": {},
   "outputs": [
    {
     "name": "stdout",
     "output_type": "stream",
     "text": [
      "请输入三个整数9,5,7\n",
      "5 7 9\n"
     ]
    }
   ],
   "source": [
    "a,b,c=eval(input('请输入三个整数'))\n",
    "m=max(a,b,c)\n",
    "n=min(a,b,c)\n",
    "print(n,a+b+c-m-n,m)"
   ]
  },
  {
   "cell_type": "markdown",
   "metadata": {},
   "source": [
    "- 5\n",
    "![](../Photo/46.png)"
   ]
  },
  {
   "cell_type": "code",
   "execution_count": 27,
   "metadata": {},
   "outputs": [
    {
     "name": "stdout",
     "output_type": "stream",
     "text": [
      "输入第一包的重量和价格10,100\n",
      "输入第二包的重量和价格10,200\n",
      "第一包好\n"
     ]
    }
   ],
   "source": [
    "w1,p1=eval(input('输入第一包的重量和价格'))\n",
    "w2,p2=eval(input('输入第二包的重量和价格'))\n",
    "if p1/w1<p2/w2:\n",
    "    print('第一包好')\n",
    "else:\n",
    "    print('第二包好')"
   ]
  },
  {
   "cell_type": "markdown",
   "metadata": {},
   "source": [
    "- 6\n",
    "![](../Photo/47.png)"
   ]
  },
  {
   "cell_type": "code",
   "execution_count": 32,
   "metadata": {},
   "outputs": [
    {
     "name": "stdout",
     "output_type": "stream",
     "text": [
      "输入月和年 3,2005\n",
      "有31天\n"
     ]
    }
   ],
   "source": [
    "month1 = [1,3,5,7,8,10,12]\n",
    "month,year=eval(input('输入月和年 '))\n",
    "if(year%4==0 and year%100!=0) or year%400==0:\n",
    "    if month==2:\n",
    "        print('二月份29天')\n",
    "    elif month in month1:\n",
    "        print('有31天')\n",
    "    else:\n",
    "        print('有30天')\n",
    "else:\n",
    "    if month==2:\n",
    "        print('二月份28天')\n",
    "    elif month in month1:\n",
    "        print('有31天')\n",
    "    else:\n",
    "        print('有30天')"
   ]
  },
  {
   "cell_type": "markdown",
   "metadata": {},
   "source": [
    "- 7\n",
    "![](../Photo/48.png)"
   ]
  },
  {
   "cell_type": "code",
   "execution_count": 29,
   "metadata": {},
   "outputs": [
    {
     "name": "stdout",
     "output_type": "stream",
     "text": [
      "输入一个猜测值0\n",
      "正确\n"
     ]
    }
   ],
   "source": [
    "import random\n",
    "random.randint(0,1)\n",
    "guess=eval(input('输入一个猜测值'))\n",
    "if guess==0:\n",
    "    print('正确')\n",
    "else:\n",
    "    print('错误')\n"
   ]
  },
  {
   "cell_type": "markdown",
   "metadata": {},
   "source": [
    "- 8\n",
    "![](../Photo/49.png)"
   ]
  },
  {
   "cell_type": "code",
   "execution_count": 17,
   "metadata": {},
   "outputs": [
    {
     "name": "stdout",
     "output_type": "stream",
     "text": [
      "请输入(0剪刀 1石头 2布)2\n",
      "你赢了\n"
     ]
    }
   ],
   "source": [
    "import random\n",
    "wanjia=eval (input(\"请输入(0剪刀 1石头 2布)\"))\n",
    "suiji = random.randint(0, 2)\n",
    "if (wanjia == 0 and suiji == 2) or (wanjia == 1 and suiji == 0) or (wanjia == 2 and suiji == 1):\n",
    "    print(\"你赢了\")\n",
    "elif wanjia == suiji:\n",
    "    print(\"平局,要不要再来一局\")\n",
    "else:\n",
    "    print(\"你输了\")"
   ]
  },
  {
   "cell_type": "markdown",
   "metadata": {},
   "source": [
    "- 9\n",
    "![](../Photo/50.png)"
   ]
  },
  {
   "cell_type": "code",
   "execution_count": null,
   "metadata": {
    "collapsed": true
   },
   "outputs": [],
   "source": []
  },
  {
   "cell_type": "markdown",
   "metadata": {},
   "source": [
    "- 10\n",
    "![](../Photo/51.png)"
   ]
  },
  {
   "cell_type": "code",
   "execution_count": null,
   "metadata": {
    "collapsed": true
   },
   "outputs": [],
   "source": []
  },
  {
   "cell_type": "markdown",
   "metadata": {},
   "source": [
    "- 11\n",
    "![](../Photo/52.png)"
   ]
  },
  {
   "cell_type": "code",
   "execution_count": 20,
   "metadata": {},
   "outputs": [
    {
     "name": "stdout",
     "output_type": "stream",
     "text": [
      "请输入一个三位数123\n",
      "此数不是回文数\n"
     ]
    }
   ],
   "source": [
    "number=eval(input('请输入一个三位数'))\n",
    "n=''\n",
    "for i in str(number):\n",
    "    n=i+n\n",
    "if n==str(number):\n",
    "    print('此数是回文数')\n",
    "else:\n",
    "    print('此数不是回文数')\n",
    "    "
   ]
  },
  {
   "cell_type": "markdown",
   "metadata": {},
   "source": [
    "- 12\n",
    "![](../Photo/53.png)"
   ]
  },
  {
   "cell_type": "code",
   "execution_count": 25,
   "metadata": {},
   "outputs": [
    {
     "name": "stdout",
     "output_type": "stream",
     "text": [
      "输入三角形的三个边3,5,4\n",
      "此三角形的周长为 12\n"
     ]
    }
   ],
   "source": [
    "a,b,c=eval(input('输入三角形的三个边'))\n",
    "if a+b>c or a+c>b or b+c>a:\n",
    "    print('此三角形的周长为',a+b+c)\n",
    "else:\n",
    "    print('输入不合法')"
   ]
  }
 ],
 "metadata": {
  "kernelspec": {
   "display_name": "Python 3",
   "language": "python",
   "name": "python3"
  },
  "language_info": {
   "codemirror_mode": {
    "name": "ipython",
    "version": 3
   },
   "file_extension": ".py",
   "mimetype": "text/x-python",
   "name": "python",
   "nbconvert_exporter": "python",
   "pygments_lexer": "ipython3",
   "version": "3.6.1"
  }
 },
 "nbformat": 4,
 "nbformat_minor": 2
}
